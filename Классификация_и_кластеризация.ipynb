{
  "nbformat": 4,
  "nbformat_minor": 0,
  "metadata": {
    "colab": {
      "provenance": []
    },
    "kernelspec": {
      "name": "python3",
      "display_name": "Python 3"
    },
    "language_info": {
      "name": "python"
    }
  },
  "cells": [
    {
      "cell_type": "markdown",
      "source": [
        "# Задание 1.\n",
        "\n",
        "Решить задачу классификации для выбранного набора данных с http://keel.es/"
      ],
      "metadata": {
        "id": "jsdS0rlY1EZt"
      }
    },
    {
      "cell_type": "code",
      "source": [
        "import pandas as pd\n",
        "import numpy as np\n",
        "from io import StringIO"
      ],
      "metadata": {
        "id": "zC9uWu_wCT_q"
      },
      "execution_count": null,
      "outputs": []
    },
    {
      "cell_type": "code",
      "source": [
        "!unzip \"phoneme.zip\" "
      ],
      "metadata": {
        "colab": {
          "base_uri": "https://localhost:8080/"
        },
        "id": "zKv-Rbm11NkL",
        "outputId": "99dd535a-c64b-4188-a0a5-6cb95bcd5586"
      },
      "execution_count": 5,
      "outputs": [
        {
          "output_type": "stream",
          "name": "stdout",
          "text": [
            "Archive:  phoneme.zip\n",
            "  inflating: phoneme.dat             \n"
          ]
        }
      ]
    },
    {
      "cell_type": "code",
      "source": [
        "file = open(\"phoneme.dat\", \"r\")\n",
        "temp = file.read()\n",
        "file.close()"
      ],
      "metadata": {
        "id": "BtyBsJRO9Ayb"
      },
      "execution_count": 43,
      "outputs": []
    },
    {
      "cell_type": "code",
      "source": [
        "import pandas as pd\n",
        "data = pd.read_csv(StringIO(temp),  \n",
        "                 skiprows=10,\n",
        "                 names = ['Aa', 'Ao', 'Dcl', 'Iy', 'Sh', 'Class']) \n",
        "data.head()"
      ],
      "metadata": {
        "colab": {
          "base_uri": "https://localhost:8080/",
          "height": 221
        },
        "id": "ECl03uswAYUT",
        "outputId": "096ce607-b55b-4b7f-88e7-37bfb1a28d4d"
      },
      "execution_count": 54,
      "outputs": [
        {
          "output_type": "execute_result",
          "data": {
            "text/plain": [
              "      Aa     Ao    Dcl     Iy     Sh  Class\n",
              "0  1.240  0.875 -0.205 -0.078  0.067      0\n",
              "1  0.268  1.352  1.035 -0.332  0.217      0\n",
              "2  1.567  0.867  1.300  1.041  0.559      0\n",
              "3  0.279  0.990  2.555 -0.738  0.000      0\n",
              "4  0.307  1.272  2.656 -0.946 -0.467      0"
            ],
            "text/html": [
              "\n",
              "  <div id=\"df-7ca045bd-6d8b-4853-8363-bbaea06dc8a4\">\n",
              "    <div class=\"colab-df-container\">\n",
              "      <div>\n",
              "<style scoped>\n",
              "    .dataframe tbody tr th:only-of-type {\n",
              "        vertical-align: middle;\n",
              "    }\n",
              "\n",
              "    .dataframe tbody tr th {\n",
              "        vertical-align: top;\n",
              "    }\n",
              "\n",
              "    .dataframe thead th {\n",
              "        text-align: right;\n",
              "    }\n",
              "</style>\n",
              "<table border=\"1\" class=\"dataframe\">\n",
              "  <thead>\n",
              "    <tr style=\"text-align: right;\">\n",
              "      <th></th>\n",
              "      <th>Aa</th>\n",
              "      <th>Ao</th>\n",
              "      <th>Dcl</th>\n",
              "      <th>Iy</th>\n",
              "      <th>Sh</th>\n",
              "      <th>Class</th>\n",
              "    </tr>\n",
              "  </thead>\n",
              "  <tbody>\n",
              "    <tr>\n",
              "      <th>0</th>\n",
              "      <td>1.240</td>\n",
              "      <td>0.875</td>\n",
              "      <td>-0.205</td>\n",
              "      <td>-0.078</td>\n",
              "      <td>0.067</td>\n",
              "      <td>0</td>\n",
              "    </tr>\n",
              "    <tr>\n",
              "      <th>1</th>\n",
              "      <td>0.268</td>\n",
              "      <td>1.352</td>\n",
              "      <td>1.035</td>\n",
              "      <td>-0.332</td>\n",
              "      <td>0.217</td>\n",
              "      <td>0</td>\n",
              "    </tr>\n",
              "    <tr>\n",
              "      <th>2</th>\n",
              "      <td>1.567</td>\n",
              "      <td>0.867</td>\n",
              "      <td>1.300</td>\n",
              "      <td>1.041</td>\n",
              "      <td>0.559</td>\n",
              "      <td>0</td>\n",
              "    </tr>\n",
              "    <tr>\n",
              "      <th>3</th>\n",
              "      <td>0.279</td>\n",
              "      <td>0.990</td>\n",
              "      <td>2.555</td>\n",
              "      <td>-0.738</td>\n",
              "      <td>0.000</td>\n",
              "      <td>0</td>\n",
              "    </tr>\n",
              "    <tr>\n",
              "      <th>4</th>\n",
              "      <td>0.307</td>\n",
              "      <td>1.272</td>\n",
              "      <td>2.656</td>\n",
              "      <td>-0.946</td>\n",
              "      <td>-0.467</td>\n",
              "      <td>0</td>\n",
              "    </tr>\n",
              "  </tbody>\n",
              "</table>\n",
              "</div>\n",
              "      <button class=\"colab-df-convert\" onclick=\"convertToInteractive('df-7ca045bd-6d8b-4853-8363-bbaea06dc8a4')\"\n",
              "              title=\"Convert this dataframe to an interactive table.\"\n",
              "              style=\"display:none;\">\n",
              "        \n",
              "  <svg xmlns=\"http://www.w3.org/2000/svg\" height=\"24px\"viewBox=\"0 0 24 24\"\n",
              "       width=\"24px\">\n",
              "    <path d=\"M0 0h24v24H0V0z\" fill=\"none\"/>\n",
              "    <path d=\"M18.56 5.44l.94 2.06.94-2.06 2.06-.94-2.06-.94-.94-2.06-.94 2.06-2.06.94zm-11 1L8.5 8.5l.94-2.06 2.06-.94-2.06-.94L8.5 2.5l-.94 2.06-2.06.94zm10 10l.94 2.06.94-2.06 2.06-.94-2.06-.94-.94-2.06-.94 2.06-2.06.94z\"/><path d=\"M17.41 7.96l-1.37-1.37c-.4-.4-.92-.59-1.43-.59-.52 0-1.04.2-1.43.59L10.3 9.45l-7.72 7.72c-.78.78-.78 2.05 0 2.83L4 21.41c.39.39.9.59 1.41.59.51 0 1.02-.2 1.41-.59l7.78-7.78 2.81-2.81c.8-.78.8-2.07 0-2.86zM5.41 20L4 18.59l7.72-7.72 1.47 1.35L5.41 20z\"/>\n",
              "  </svg>\n",
              "      </button>\n",
              "      \n",
              "  <style>\n",
              "    .colab-df-container {\n",
              "      display:flex;\n",
              "      flex-wrap:wrap;\n",
              "      gap: 12px;\n",
              "    }\n",
              "\n",
              "    .colab-df-convert {\n",
              "      background-color: #E8F0FE;\n",
              "      border: none;\n",
              "      border-radius: 50%;\n",
              "      cursor: pointer;\n",
              "      display: none;\n",
              "      fill: #1967D2;\n",
              "      height: 32px;\n",
              "      padding: 0 0 0 0;\n",
              "      width: 32px;\n",
              "    }\n",
              "\n",
              "    .colab-df-convert:hover {\n",
              "      background-color: #E2EBFA;\n",
              "      box-shadow: 0px 1px 2px rgba(60, 64, 67, 0.3), 0px 1px 3px 1px rgba(60, 64, 67, 0.15);\n",
              "      fill: #174EA6;\n",
              "    }\n",
              "\n",
              "    [theme=dark] .colab-df-convert {\n",
              "      background-color: #3B4455;\n",
              "      fill: #D2E3FC;\n",
              "    }\n",
              "\n",
              "    [theme=dark] .colab-df-convert:hover {\n",
              "      background-color: #434B5C;\n",
              "      box-shadow: 0px 1px 3px 1px rgba(0, 0, 0, 0.15);\n",
              "      filter: drop-shadow(0px 1px 2px rgba(0, 0, 0, 0.3));\n",
              "      fill: #FFFFFF;\n",
              "    }\n",
              "  </style>\n",
              "\n",
              "      <script>\n",
              "        const buttonEl =\n",
              "          document.querySelector('#df-7ca045bd-6d8b-4853-8363-bbaea06dc8a4 button.colab-df-convert');\n",
              "        buttonEl.style.display =\n",
              "          google.colab.kernel.accessAllowed ? 'block' : 'none';\n",
              "\n",
              "        async function convertToInteractive(key) {\n",
              "          const element = document.querySelector('#df-7ca045bd-6d8b-4853-8363-bbaea06dc8a4');\n",
              "          const dataTable =\n",
              "            await google.colab.kernel.invokeFunction('convertToInteractive',\n",
              "                                                     [key], {});\n",
              "          if (!dataTable) return;\n",
              "\n",
              "          const docLinkHtml = 'Like what you see? Visit the ' +\n",
              "            '<a target=\"_blank\" href=https://colab.research.google.com/notebooks/data_table.ipynb>data table notebook</a>'\n",
              "            + ' to learn more about interactive tables.';\n",
              "          element.innerHTML = '';\n",
              "          dataTable['output_type'] = 'display_data';\n",
              "          await google.colab.output.renderOutput(dataTable, element);\n",
              "          const docLink = document.createElement('div');\n",
              "          docLink.innerHTML = docLinkHtml;\n",
              "          element.appendChild(docLink);\n",
              "        }\n",
              "      </script>\n",
              "    </div>\n",
              "  </div>\n",
              "  "
            ]
          },
          "metadata": {},
          "execution_count": 54
        }
      ]
    },
    {
      "cell_type": "code",
      "source": [
        "y = data['Class'].to_numpy()\n",
        "X = data.drop('Class',1).to_numpy()\n",
        "print(np.unique(y))"
      ],
      "metadata": {
        "id": "BclPTkJOhqDb",
        "colab": {
          "base_uri": "https://localhost:8080/"
        },
        "outputId": "12134a89-c534-492b-cd20-e9fbbb1d1e64"
      },
      "execution_count": 58,
      "outputs": [
        {
          "output_type": "stream",
          "name": "stdout",
          "text": [
            "[0 1]\n"
          ]
        }
      ]
    },
    {
      "cell_type": "code",
      "source": [
        "from sklearn.model_selection import StratifiedKFold\n",
        "from sklearn.preprocessing import RobustScaler\n",
        "from imblearn.over_sampling import BorderlineSMOTE\n",
        "from sklearn.metrics import balanced_accuracy_score\n",
        "from sklearn.tree import DecisionTreeClassifier\n",
        "\n",
        "y = data['Class'].to_numpy()\n",
        "X = data.drop('Class',1).to_numpy()\n",
        "kf = StratifiedKFold(5)\n",
        "train_accuracies = []\n",
        "test_accuracies = []\n",
        "for train_index, test_index in kf.split(X, y):\n",
        "  X_train = X[train_index]\n",
        "  X_test = X[test_index]\n",
        "  y_train = y[train_index]\n",
        "  y_test = y[test_index]\n",
        "  oversampler = BorderlineSMOTE()\n",
        "  X_train, y_train = oversampler.fit_resample(X_train, y_train)\n",
        "  scaler = RobustScaler()\n",
        "  X_train = scaler.fit_transform(X_train)\n",
        "  X_test = scaler.transform(X_test)\n",
        "  model = DecisionTreeClassifier()\n",
        "  model.fit(X_train, y_train)\n",
        "  y_pred_train = model.predict(X_train)\n",
        "  y_pred_test = model.predict(X_test)\n",
        "  balanced_accuracy_tr = balanced_accuracy_score(y_pred_train, y_train)\n",
        "  balanced_accuracy_ts = balanced_accuracy_score(y_pred_test, y_test)\n",
        "  train_accuracies.append(balanced_accuracy_tr)\n",
        "  test_accuracies.append(balanced_accuracy_ts)\n",
        "print(\" Обучение:\", np.mean(train_accuracies) * 100, \"%, Тест:\", np.mean(test_accuracies) * 100, ' %')"
      ],
      "metadata": {
        "colab": {
          "base_uri": "https://localhost:8080/"
        },
        "id": "t9j7_-o7NL6j",
        "outputId": "fe71c53c-a22d-408b-e6b9-64b7a6813373"
      },
      "execution_count": 67,
      "outputs": [
        {
          "output_type": "stream",
          "name": "stdout",
          "text": [
            " Обучение: 100.0 %, Тест: 83.1947835142287  %\n"
          ]
        }
      ]
    }
  ]
}